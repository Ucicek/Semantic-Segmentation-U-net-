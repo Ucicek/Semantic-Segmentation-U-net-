{
 "cells": [
  {
   "cell_type": "code",
   "execution_count": 1,
   "id": "bff9eadd",
   "metadata": {
    "_cell_guid": "b1076dfc-b9ad-4769-8c92-a6c4dae69d19",
    "_uuid": "8f2839f25d086af736a60e9eeb907d3b93b6e0e5",
    "execution": {
     "iopub.execute_input": "2021-09-09T17:38:47.885929Z",
     "iopub.status.busy": "2021-09-09T17:38:47.885422Z",
     "iopub.status.idle": "2021-09-09T17:38:52.015419Z",
     "shell.execute_reply": "2021-09-09T17:38:52.014491Z"
    },
    "papermill": {
     "duration": 4.150428,
     "end_time": "2021-09-09T17:38:52.015580",
     "exception": false,
     "start_time": "2021-09-09T17:38:47.865152",
     "status": "completed"
    },
    "tags": []
   },
   "outputs": [],
   "source": [
    "from tensorflow.keras.layers import Conv2D, BatchNormalization, Activation\n",
    "from tensorflow.keras.layers import MaxPool2D\n",
    "from tensorflow.keras.layers import Conv2DTranspose, Concatenate\n",
    "from tensorflow.keras import Input\n",
    "from tensorflow.keras.models import Model"
   ]
  },
  {
   "cell_type": "code",
   "execution_count": 2,
   "id": "a0c90eb0",
   "metadata": {
    "execution": {
     "iopub.execute_input": "2021-09-09T17:38:52.039260Z",
     "iopub.status.busy": "2021-09-09T17:38:52.038560Z",
     "iopub.status.idle": "2021-09-09T17:38:52.042348Z",
     "shell.execute_reply": "2021-09-09T17:38:52.041920Z",
     "shell.execute_reply.started": "2021-09-09T17:26:30.016239Z"
    },
    "papermill": {
     "duration": 0.017958,
     "end_time": "2021-09-09T17:38:52.042454",
     "exception": false,
     "start_time": "2021-09-09T17:38:52.024496",
     "status": "completed"
    },
    "tags": []
   },
   "outputs": [],
   "source": [
    "# Repeated convolutional blocks can be defined using a reusable function.\n",
    "def conv_block(input, num_filters):\n",
    "    x = Conv2D(num_filters, 3, padding='same')(input)\n",
    "    x = BatchNormalization()(x)\n",
    "    x = Activation('relu')(x)\n",
    "\n",
    "    x = Conv2D(num_filters, 3, padding='same')(input)\n",
    "    x = BatchNormalization()(x)\n",
    "    x = Activation('relu')(x)\n",
    "\n",
    "    return x"
   ]
  },
  {
   "cell_type": "code",
   "execution_count": 3,
   "id": "388cf587",
   "metadata": {
    "execution": {
     "iopub.execute_input": "2021-09-09T17:38:52.068684Z",
     "iopub.status.busy": "2021-09-09T17:38:52.067474Z",
     "iopub.status.idle": "2021-09-09T17:38:52.069823Z",
     "shell.execute_reply": "2021-09-09T17:38:52.070242Z",
     "shell.execute_reply.started": "2021-09-09T17:26:31.723177Z"
    },
    "papermill": {
     "duration": 0.019458,
     "end_time": "2021-09-09T17:38:52.070386",
     "exception": false,
     "start_time": "2021-09-09T17:38:52.050928",
     "status": "completed"
    },
    "tags": []
   },
   "outputs": [],
   "source": [
    "# Repeated encoder convolutional blocks can be defined using a reusable function.\n",
    "def encoder_block(input, num_filters):\n",
    "    x = conv_block(input, num_filters)\n",
    "    p = MaxPool2D((2, 2))(x)\n",
    "    return x, p\n",
    "\n",
    "\n",
    "# Repeated decoder blocks can be defined using a reusable function.\n",
    "def decoder_block(input, skip_features, num_filters):\n",
    "    x = Conv2DTranspose(num_filters, (2, 2), strides=2, padding='same')(input)\n",
    "    x = Concatenate()([x, skip_features])\n",
    "    x = conv_block(x, num_filters=2)\n",
    "    return x\n",
    "\n",
    "\n",
    "# S is the output of the conv block --> P is the output of the max pooling --> d is the ouput of the decoder block\n",
    "def unet_arch(input_shape):\n",
    "    inputs = Input(input_shape)\n",
    "\n",
    "    # Following the U-net Architecture\n",
    "    s1, p1 = encoder_block(inputs, 64)\n",
    "    s2, p2 = encoder_block(p1, 128)\n",
    "    s3, p3 = encoder_block(p2, 256)\n",
    "    s4, p4 = encoder_block(p3, 512)\n",
    "\n",
    "    b1 = conv_block(p4, 1024)\n",
    "\n",
    "    d1 = decoder_block(b1, s4, 512)\n",
    "    d2 = decoder_block(d1, s3, 256)\n",
    "    d3 = decoder_block(d2, s2, 128)\n",
    "    d4 = decoder_block(d3, s1, 64)\n",
    "\n",
    "    outputs = Conv2D(1, 1, padding='same', activation='sigmoid')(d4)\n",
    "\n",
    "    model = Model(inputs, outputs, name='U-net')\n",
    "    return model"
   ]
  },
  {
   "cell_type": "code",
   "execution_count": 4,
   "id": "a7912c42",
   "metadata": {
    "execution": {
     "iopub.execute_input": "2021-09-09T17:38:52.091191Z",
     "iopub.status.busy": "2021-09-09T17:38:52.090648Z",
     "iopub.status.idle": "2021-09-09T17:38:54.385228Z",
     "shell.execute_reply": "2021-09-09T17:38:54.385778Z",
     "shell.execute_reply.started": "2021-09-09T17:26:34.565654Z"
    },
    "papermill": {
     "duration": 2.306891,
     "end_time": "2021-09-09T17:38:54.385998",
     "exception": false,
     "start_time": "2021-09-09T17:38:52.079107",
     "status": "completed"
    },
    "tags": []
   },
   "outputs": [
    {
     "name": "stdout",
     "output_type": "stream",
     "text": [
      "Model: \"U-net\"\n",
      "__________________________________________________________________________________________________\n",
      "Layer (type)                    Output Shape         Param #     Connected to                     \n",
      "==================================================================================================\n",
      "input_1 (InputLayer)            [(None, 512, 512, 3) 0                                            \n",
      "__________________________________________________________________________________________________\n",
      "conv2d_1 (Conv2D)               (None, 512, 512, 64) 1792        input_1[0][0]                    \n",
      "__________________________________________________________________________________________________\n",
      "batch_normalization_1 (BatchNor (None, 512, 512, 64) 256         conv2d_1[0][0]                   \n",
      "__________________________________________________________________________________________________\n",
      "activation_1 (Activation)       (None, 512, 512, 64) 0           batch_normalization_1[0][0]      \n",
      "__________________________________________________________________________________________________\n",
      "max_pooling2d (MaxPooling2D)    (None, 256, 256, 64) 0           activation_1[0][0]               \n",
      "__________________________________________________________________________________________________\n",
      "conv2d_3 (Conv2D)               (None, 256, 256, 128 73856       max_pooling2d[0][0]              \n",
      "__________________________________________________________________________________________________\n",
      "batch_normalization_3 (BatchNor (None, 256, 256, 128 512         conv2d_3[0][0]                   \n",
      "__________________________________________________________________________________________________\n",
      "activation_3 (Activation)       (None, 256, 256, 128 0           batch_normalization_3[0][0]      \n",
      "__________________________________________________________________________________________________\n",
      "max_pooling2d_1 (MaxPooling2D)  (None, 128, 128, 128 0           activation_3[0][0]               \n",
      "__________________________________________________________________________________________________\n",
      "conv2d_5 (Conv2D)               (None, 128, 128, 256 295168      max_pooling2d_1[0][0]            \n",
      "__________________________________________________________________________________________________\n",
      "batch_normalization_5 (BatchNor (None, 128, 128, 256 1024        conv2d_5[0][0]                   \n",
      "__________________________________________________________________________________________________\n",
      "activation_5 (Activation)       (None, 128, 128, 256 0           batch_normalization_5[0][0]      \n",
      "__________________________________________________________________________________________________\n",
      "max_pooling2d_2 (MaxPooling2D)  (None, 64, 64, 256)  0           activation_5[0][0]               \n",
      "__________________________________________________________________________________________________\n",
      "conv2d_7 (Conv2D)               (None, 64, 64, 512)  1180160     max_pooling2d_2[0][0]            \n",
      "__________________________________________________________________________________________________\n",
      "batch_normalization_7 (BatchNor (None, 64, 64, 512)  2048        conv2d_7[0][0]                   \n",
      "__________________________________________________________________________________________________\n",
      "activation_7 (Activation)       (None, 64, 64, 512)  0           batch_normalization_7[0][0]      \n",
      "__________________________________________________________________________________________________\n",
      "max_pooling2d_3 (MaxPooling2D)  (None, 32, 32, 512)  0           activation_7[0][0]               \n",
      "__________________________________________________________________________________________________\n",
      "conv2d_9 (Conv2D)               (None, 32, 32, 1024) 4719616     max_pooling2d_3[0][0]            \n",
      "__________________________________________________________________________________________________\n",
      "batch_normalization_9 (BatchNor (None, 32, 32, 1024) 4096        conv2d_9[0][0]                   \n",
      "__________________________________________________________________________________________________\n",
      "activation_9 (Activation)       (None, 32, 32, 1024) 0           batch_normalization_9[0][0]      \n",
      "__________________________________________________________________________________________________\n",
      "conv2d_transpose (Conv2DTranspo (None, 64, 64, 512)  2097664     activation_9[0][0]               \n",
      "__________________________________________________________________________________________________\n",
      "concatenate (Concatenate)       (None, 64, 64, 1024) 0           conv2d_transpose[0][0]           \n",
      "                                                                 activation_7[0][0]               \n",
      "__________________________________________________________________________________________________\n",
      "conv2d_11 (Conv2D)              (None, 64, 64, 2)    18434       concatenate[0][0]                \n",
      "__________________________________________________________________________________________________\n",
      "batch_normalization_11 (BatchNo (None, 64, 64, 2)    8           conv2d_11[0][0]                  \n",
      "__________________________________________________________________________________________________\n",
      "activation_11 (Activation)      (None, 64, 64, 2)    0           batch_normalization_11[0][0]     \n",
      "__________________________________________________________________________________________________\n",
      "conv2d_transpose_1 (Conv2DTrans (None, 128, 128, 256 2304        activation_11[0][0]              \n",
      "__________________________________________________________________________________________________\n",
      "concatenate_1 (Concatenate)     (None, 128, 128, 512 0           conv2d_transpose_1[0][0]         \n",
      "                                                                 activation_5[0][0]               \n",
      "__________________________________________________________________________________________________\n",
      "conv2d_13 (Conv2D)              (None, 128, 128, 2)  9218        concatenate_1[0][0]              \n",
      "__________________________________________________________________________________________________\n",
      "batch_normalization_13 (BatchNo (None, 128, 128, 2)  8           conv2d_13[0][0]                  \n",
      "__________________________________________________________________________________________________\n",
      "activation_13 (Activation)      (None, 128, 128, 2)  0           batch_normalization_13[0][0]     \n",
      "__________________________________________________________________________________________________\n",
      "conv2d_transpose_2 (Conv2DTrans (None, 256, 256, 128 1152        activation_13[0][0]              \n",
      "__________________________________________________________________________________________________\n",
      "concatenate_2 (Concatenate)     (None, 256, 256, 256 0           conv2d_transpose_2[0][0]         \n",
      "                                                                 activation_3[0][0]               \n",
      "__________________________________________________________________________________________________\n",
      "conv2d_15 (Conv2D)              (None, 256, 256, 2)  4610        concatenate_2[0][0]              \n",
      "__________________________________________________________________________________________________\n",
      "batch_normalization_15 (BatchNo (None, 256, 256, 2)  8           conv2d_15[0][0]                  \n",
      "__________________________________________________________________________________________________\n",
      "activation_15 (Activation)      (None, 256, 256, 2)  0           batch_normalization_15[0][0]     \n",
      "__________________________________________________________________________________________________\n",
      "conv2d_transpose_3 (Conv2DTrans (None, 512, 512, 64) 576         activation_15[0][0]              \n",
      "__________________________________________________________________________________________________\n",
      "concatenate_3 (Concatenate)     (None, 512, 512, 128 0           conv2d_transpose_3[0][0]         \n",
      "                                                                 activation_1[0][0]               \n",
      "__________________________________________________________________________________________________\n",
      "conv2d_17 (Conv2D)              (None, 512, 512, 2)  2306        concatenate_3[0][0]              \n",
      "__________________________________________________________________________________________________\n",
      "batch_normalization_17 (BatchNo (None, 512, 512, 2)  8           conv2d_17[0][0]                  \n",
      "__________________________________________________________________________________________________\n",
      "activation_17 (Activation)      (None, 512, 512, 2)  0           batch_normalization_17[0][0]     \n",
      "__________________________________________________________________________________________________\n",
      "conv2d_18 (Conv2D)              (None, 512, 512, 1)  3           activation_17[0][0]              \n",
      "==================================================================================================\n",
      "Total params: 8,414,827\n",
      "Trainable params: 8,410,843\n",
      "Non-trainable params: 3,984\n",
      "__________________________________________________________________________________________________\n"
     ]
    }
   ],
   "source": [
    "input_shape = (512, 512, 3)\n",
    "model = unet_arch(input_shape)\n",
    "model.summary()"
   ]
  },
  {
   "cell_type": "markdown",
   "id": "ae5cec47",
   "metadata": {
    "papermill": {
     "duration": 0.008732,
     "end_time": "2021-09-09T17:38:54.405064",
     "exception": false,
     "start_time": "2021-09-09T17:38:54.396332",
     "status": "completed"
    },
    "tags": []
   },
   "source": [
    "# DATASET"
   ]
  },
  {
   "cell_type": "code",
   "execution_count": 5,
   "id": "959bae6e",
   "metadata": {
    "execution": {
     "iopub.execute_input": "2021-09-09T17:38:54.427237Z",
     "iopub.status.busy": "2021-09-09T17:38:54.426610Z",
     "iopub.status.idle": "2021-09-09T17:38:55.205793Z",
     "shell.execute_reply": "2021-09-09T17:38:55.205283Z",
     "shell.execute_reply.started": "2021-09-09T17:26:41.815496Z"
    },
    "papermill": {
     "duration": 0.7918,
     "end_time": "2021-09-09T17:38:55.205914",
     "exception": false,
     "start_time": "2021-09-09T17:38:54.414114",
     "status": "completed"
    },
    "tags": []
   },
   "outputs": [],
   "source": [
    "import numpy as np\n",
    "import os\n",
    "from glob import glob\n",
    "from sklearn.model_selection import train_test_split\n",
    "import cv2\n",
    "import tensorflow as tf"
   ]
  },
  {
   "cell_type": "code",
   "execution_count": 6,
   "id": "55f26797",
   "metadata": {
    "execution": {
     "iopub.execute_input": "2021-09-09T17:38:55.236467Z",
     "iopub.status.busy": "2021-09-09T17:38:55.235229Z",
     "iopub.status.idle": "2021-09-09T17:38:55.237545Z",
     "shell.execute_reply": "2021-09-09T17:38:55.237899Z",
     "shell.execute_reply.started": "2021-09-09T17:26:43.826060Z"
    },
    "papermill": {
     "duration": 0.022605,
     "end_time": "2021-09-09T17:38:55.238041",
     "exception": false,
     "start_time": "2021-09-09T17:38:55.215436",
     "status": "completed"
    },
    "tags": []
   },
   "outputs": [],
   "source": [
    "def image_ops(path):\n",
    "    img = cv2.imread(path, cv2.IMREAD_COLOR)\n",
    "    img = cv2.resize(img, (256, 256))\n",
    "    img = img / 255.0\n",
    "    img = img.astype(np.float32)\n",
    "    return img\n",
    "\n",
    "\n",
    "def mask_ops(path):\n",
    "    mask = cv2.imread(path, cv2.IMREAD_GRAYSCALE)\n",
    "    mask = cv2.resize(mask, (256, 256))\n",
    "    mask = mask.astype(np.float32)\n",
    "    mask = np.expand_dims(mask, axis=-1)  # (256,256,1)\n",
    "    return mask\n",
    "\n",
    "\n",
    "def load_data(path):\n",
    "    images = glob(os.path.join(path, \"images/*\"))\n",
    "    masks = glob(os.path.join(path, \"masks/*\"))\n",
    "\n",
    "    train_x, test_x = train_test_split(images, test_size=0.2, random_state=42)\n",
    "    train_y, test_y = train_test_split(masks, test_size=0.2, random_state=42)\n",
    "\n",
    "\n",
    "    return (train_x, test_x), (train_y, test_y)\n",
    "\n",
    "\n",
    "def preprocess(image_path, mask_path):\n",
    "    def f(image_path, mask_path):\n",
    "        image_path = image_path.decode()\n",
    "        mask_path = mask_path.decode()\n",
    "\n",
    "        x = image_ops(image_path)\n",
    "        y = mask_ops(mask_path)\n",
    "        return x, y\n",
    "\n",
    "    image, mask = tf.numpy_function(f, [image_path, mask_path], [tf.float32, tf.float32])\n",
    "    # image, mask = f(image_path,mask_path)\n",
    "    image.set_shape([256, 256, 3])\n",
    "    mask.set_shape([256, 256, 1])\n",
    "\n",
    "    return image, mask\n",
    "\n",
    "\n",
    "def tf_dataset(images, masks, batch=10):\n",
    "    dataset = tf.data.Dataset.from_tensor_slices((images, masks))\n",
    "    dataset = dataset.shuffle(buffer_size=5000)\n",
    "    dataset = dataset.map(preprocess)\n",
    "    dataset = dataset.batch(batch)\n",
    "    dataset = dataset.prefetch(2)\n",
    "    return dataset"
   ]
  },
  {
   "cell_type": "code",
   "execution_count": 7,
   "id": "6f75d567",
   "metadata": {
    "_kg_hide-input": true,
    "execution": {
     "iopub.execute_input": "2021-09-09T17:38:55.259569Z",
     "iopub.status.busy": "2021-09-09T17:38:55.259062Z",
     "iopub.status.idle": "2021-09-09T17:38:56.008489Z",
     "shell.execute_reply": "2021-09-09T17:38:56.008044Z",
     "shell.execute_reply.started": "2021-09-09T17:26:46.757943Z"
    },
    "papermill": {
     "duration": 0.76176,
     "end_time": "2021-09-09T17:38:56.008607",
     "exception": false,
     "start_time": "2021-09-09T17:38:55.246847",
     "status": "completed"
    },
    "tags": []
   },
   "outputs": [
    {
     "name": "stdout",
     "output_type": "stream",
     "text": [
      "Training: 4542 - 4542  \n",
      "Testing: 1136 - 1136  \n"
     ]
    }
   ],
   "source": [
    "path = \"../input/person-segmentation/people_segmentation\"  # . signifies the current folder\n",
    "(train_x, test_x), (train_y, test_y) = load_data(path)\n",
    "print(f\"Training: {len(train_x)} - {len(train_y)}  \")\n",
    "print(f\"Testing: {len(test_x)} - {len(test_y)}  \")\n",
    "train_dataset = tf_dataset(train_x, train_y, batch=12)"
   ]
  },
  {
   "cell_type": "code",
   "execution_count": 8,
   "id": "f82dc89b",
   "metadata": {
    "execution": {
     "iopub.execute_input": "2021-09-09T17:38:56.032030Z",
     "iopub.status.busy": "2021-09-09T17:38:56.031370Z",
     "iopub.status.idle": "2021-09-09T17:38:56.034168Z",
     "shell.execute_reply": "2021-09-09T17:38:56.033761Z",
     "shell.execute_reply.started": "2021-09-09T17:26:48.783098Z"
    },
    "papermill": {
     "duration": 0.01636,
     "end_time": "2021-09-09T17:38:56.034273",
     "exception": false,
     "start_time": "2021-09-09T17:38:56.017913",
     "status": "completed"
    },
    "tags": []
   },
   "outputs": [],
   "source": [
    "import os\n",
    "import numpy as np\n",
    "import tensorflow as tf\n",
    "os.environ[\"TF_CPP_MIN_LOG_LEVEL\"] = \"2\"\n",
    "import cv2"
   ]
  },
  {
   "cell_type": "code",
   "execution_count": 9,
   "id": "56ad9edb",
   "metadata": {
    "execution": {
     "iopub.execute_input": "2021-09-09T17:38:56.057207Z",
     "iopub.status.busy": "2021-09-09T17:38:56.056642Z",
     "iopub.status.idle": "2021-09-09T17:38:56.059338Z",
     "shell.execute_reply": "2021-09-09T17:38:56.059805Z",
     "shell.execute_reply.started": "2021-09-09T17:26:50.148881Z"
    },
    "papermill": {
     "duration": 0.015806,
     "end_time": "2021-09-09T17:38:56.059918",
     "exception": false,
     "start_time": "2021-09-09T17:38:56.044112",
     "status": "completed"
    },
    "tags": []
   },
   "outputs": [
    {
     "name": "stdout",
     "output_type": "stream",
     "text": [
      "2.4.1\n"
     ]
    }
   ],
   "source": [
    "import tensorflow as tf \n",
    "print(tf.__version__)"
   ]
  },
  {
   "cell_type": "code",
   "execution_count": 10,
   "id": "b7d6673e",
   "metadata": {
    "execution": {
     "iopub.execute_input": "2021-09-09T17:38:56.097209Z",
     "iopub.status.busy": "2021-09-09T17:38:56.086189Z",
     "iopub.status.idle": "2021-09-09T17:38:56.515606Z",
     "shell.execute_reply": "2021-09-09T17:38:56.516005Z",
     "shell.execute_reply.started": "2021-09-09T17:26:51.643714Z"
    },
    "papermill": {
     "duration": 0.4468,
     "end_time": "2021-09-09T17:38:56.516159",
     "exception": false,
     "start_time": "2021-09-09T17:38:56.069359",
     "status": "completed"
    },
    "tags": []
   },
   "outputs": [
    {
     "name": "stdout",
     "output_type": "stream",
     "text": [
      "Model: \"U-net\"\n",
      "__________________________________________________________________________________________________\n",
      "Layer (type)                    Output Shape         Param #     Connected to                     \n",
      "==================================================================================================\n",
      "input_2 (InputLayer)            [(None, 256, 256, 3) 0                                            \n",
      "__________________________________________________________________________________________________\n",
      "conv2d_20 (Conv2D)              (None, 256, 256, 64) 1792        input_2[0][0]                    \n",
      "__________________________________________________________________________________________________\n",
      "batch_normalization_19 (BatchNo (None, 256, 256, 64) 256         conv2d_20[0][0]                  \n",
      "__________________________________________________________________________________________________\n",
      "activation_19 (Activation)      (None, 256, 256, 64) 0           batch_normalization_19[0][0]     \n",
      "__________________________________________________________________________________________________\n",
      "max_pooling2d_4 (MaxPooling2D)  (None, 128, 128, 64) 0           activation_19[0][0]              \n",
      "__________________________________________________________________________________________________\n",
      "conv2d_22 (Conv2D)              (None, 128, 128, 128 73856       max_pooling2d_4[0][0]            \n",
      "__________________________________________________________________________________________________\n",
      "batch_normalization_21 (BatchNo (None, 128, 128, 128 512         conv2d_22[0][0]                  \n",
      "__________________________________________________________________________________________________\n",
      "activation_21 (Activation)      (None, 128, 128, 128 0           batch_normalization_21[0][0]     \n",
      "__________________________________________________________________________________________________\n",
      "max_pooling2d_5 (MaxPooling2D)  (None, 64, 64, 128)  0           activation_21[0][0]              \n",
      "__________________________________________________________________________________________________\n",
      "conv2d_24 (Conv2D)              (None, 64, 64, 256)  295168      max_pooling2d_5[0][0]            \n",
      "__________________________________________________________________________________________________\n",
      "batch_normalization_23 (BatchNo (None, 64, 64, 256)  1024        conv2d_24[0][0]                  \n",
      "__________________________________________________________________________________________________\n",
      "activation_23 (Activation)      (None, 64, 64, 256)  0           batch_normalization_23[0][0]     \n",
      "__________________________________________________________________________________________________\n",
      "max_pooling2d_6 (MaxPooling2D)  (None, 32, 32, 256)  0           activation_23[0][0]              \n",
      "__________________________________________________________________________________________________\n",
      "conv2d_26 (Conv2D)              (None, 32, 32, 512)  1180160     max_pooling2d_6[0][0]            \n",
      "__________________________________________________________________________________________________\n",
      "batch_normalization_25 (BatchNo (None, 32, 32, 512)  2048        conv2d_26[0][0]                  \n",
      "__________________________________________________________________________________________________\n",
      "activation_25 (Activation)      (None, 32, 32, 512)  0           batch_normalization_25[0][0]     \n",
      "__________________________________________________________________________________________________\n",
      "max_pooling2d_7 (MaxPooling2D)  (None, 16, 16, 512)  0           activation_25[0][0]              \n",
      "__________________________________________________________________________________________________\n",
      "conv2d_28 (Conv2D)              (None, 16, 16, 1024) 4719616     max_pooling2d_7[0][0]            \n",
      "__________________________________________________________________________________________________\n",
      "batch_normalization_27 (BatchNo (None, 16, 16, 1024) 4096        conv2d_28[0][0]                  \n",
      "__________________________________________________________________________________________________\n",
      "activation_27 (Activation)      (None, 16, 16, 1024) 0           batch_normalization_27[0][0]     \n",
      "__________________________________________________________________________________________________\n",
      "conv2d_transpose_4 (Conv2DTrans (None, 32, 32, 512)  2097664     activation_27[0][0]              \n",
      "__________________________________________________________________________________________________\n",
      "concatenate_4 (Concatenate)     (None, 32, 32, 1024) 0           conv2d_transpose_4[0][0]         \n",
      "                                                                 activation_25[0][0]              \n",
      "__________________________________________________________________________________________________\n",
      "conv2d_30 (Conv2D)              (None, 32, 32, 2)    18434       concatenate_4[0][0]              \n",
      "__________________________________________________________________________________________________\n",
      "batch_normalization_29 (BatchNo (None, 32, 32, 2)    8           conv2d_30[0][0]                  \n",
      "__________________________________________________________________________________________________\n",
      "activation_29 (Activation)      (None, 32, 32, 2)    0           batch_normalization_29[0][0]     \n",
      "__________________________________________________________________________________________________\n",
      "conv2d_transpose_5 (Conv2DTrans (None, 64, 64, 256)  2304        activation_29[0][0]              \n",
      "__________________________________________________________________________________________________\n",
      "concatenate_5 (Concatenate)     (None, 64, 64, 512)  0           conv2d_transpose_5[0][0]         \n",
      "                                                                 activation_23[0][0]              \n",
      "__________________________________________________________________________________________________\n",
      "conv2d_32 (Conv2D)              (None, 64, 64, 2)    9218        concatenate_5[0][0]              \n",
      "__________________________________________________________________________________________________\n",
      "batch_normalization_31 (BatchNo (None, 64, 64, 2)    8           conv2d_32[0][0]                  \n",
      "__________________________________________________________________________________________________\n",
      "activation_31 (Activation)      (None, 64, 64, 2)    0           batch_normalization_31[0][0]     \n",
      "__________________________________________________________________________________________________\n",
      "conv2d_transpose_6 (Conv2DTrans (None, 128, 128, 128 1152        activation_31[0][0]              \n",
      "__________________________________________________________________________________________________\n",
      "concatenate_6 (Concatenate)     (None, 128, 128, 256 0           conv2d_transpose_6[0][0]         \n",
      "                                                                 activation_21[0][0]              \n",
      "__________________________________________________________________________________________________\n",
      "conv2d_34 (Conv2D)              (None, 128, 128, 2)  4610        concatenate_6[0][0]              \n",
      "__________________________________________________________________________________________________\n",
      "batch_normalization_33 (BatchNo (None, 128, 128, 2)  8           conv2d_34[0][0]                  \n",
      "__________________________________________________________________________________________________\n",
      "activation_33 (Activation)      (None, 128, 128, 2)  0           batch_normalization_33[0][0]     \n",
      "__________________________________________________________________________________________________\n",
      "conv2d_transpose_7 (Conv2DTrans (None, 256, 256, 64) 576         activation_33[0][0]              \n",
      "__________________________________________________________________________________________________\n",
      "concatenate_7 (Concatenate)     (None, 256, 256, 128 0           conv2d_transpose_7[0][0]         \n",
      "                                                                 activation_19[0][0]              \n",
      "__________________________________________________________________________________________________\n",
      "conv2d_36 (Conv2D)              (None, 256, 256, 2)  2306        concatenate_7[0][0]              \n",
      "__________________________________________________________________________________________________\n",
      "batch_normalization_35 (BatchNo (None, 256, 256, 2)  8           conv2d_36[0][0]                  \n",
      "__________________________________________________________________________________________________\n",
      "activation_35 (Activation)      (None, 256, 256, 2)  0           batch_normalization_35[0][0]     \n",
      "__________________________________________________________________________________________________\n",
      "conv2d_37 (Conv2D)              (None, 256, 256, 1)  3           activation_35[0][0]              \n",
      "==================================================================================================\n",
      "Total params: 8,414,827\n",
      "Trainable params: 8,410,843\n",
      "Non-trainable params: 3,984\n",
      "__________________________________________________________________________________________________\n"
     ]
    }
   ],
   "source": [
    "\n",
    "input_shape = (256, 256, 3)\n",
    "batch_size = 12\n",
    "epochs = 10\n",
    "lr = 1e-4\n",
    "model_path = \"unet.h5\"\n",
    "\n",
    "\"\"\" Load the dataset \"\"\"\n",
    "\n",
    "train_dataset = tf_dataset(train_x, train_y, batch=batch_size)\n",
    "test_dataset = tf_dataset(test_x, test_y, batch=batch_size)\n",
    "\n",
    "\"\"\" Model \"\"\"\n",
    "model = unet_arch(input_shape)\n",
    "\"\"\"\n",
    "model.compile(\n",
    "    loss=\"binary_crossentropy\",\n",
    "    optimizer=tf.keras.optimizers.Adam,\n",
    "    metrics=[\n",
    "        tf.keras.metrics.MeanIoU(num_classes=2),\n",
    "        tf.keras.metrics.Recall(),\n",
    "        tf.keras.metrics.Precision()\n",
    "    ]\n",
    ")\n",
    "\"\"\"\n",
    "model.compile(optimizer=\"Adam\",\n",
    "              loss=tf.keras.losses.BinaryCrossentropy(),\n",
    "              metrics=[tf.keras.metrics.BinaryAccuracy(),\n",
    "                       tf.keras.metrics.FalseNegatives()])\n",
    "\n",
    "model.summary()\n",
    "\n"
   ]
  },
  {
   "cell_type": "code",
   "execution_count": 11,
   "id": "b987ef09",
   "metadata": {
    "execution": {
     "iopub.execute_input": "2021-09-09T17:38:56.540376Z",
     "iopub.status.busy": "2021-09-09T17:38:56.539790Z",
     "iopub.status.idle": "2021-09-09T17:50:27.718899Z",
     "shell.execute_reply": "2021-09-09T17:50:27.719375Z"
    },
    "papermill": {
     "duration": 691.192959,
     "end_time": "2021-09-09T17:50:27.719541",
     "exception": false,
     "start_time": "2021-09-09T17:38:56.526582",
     "status": "completed"
    },
    "tags": []
   },
   "outputs": [
    {
     "name": "stdout",
     "output_type": "stream",
     "text": [
      "Epoch 1/10\n",
      "379/379 [==============================] - 107s 259ms/step - loss: 0.6006 - binary_accuracy: 0.7171 - false_negatives: 38571433.0579\n",
      "Epoch 2/10\n",
      "379/379 [==============================] - 64s 169ms/step - loss: 0.5138 - binary_accuracy: 0.7391 - false_negatives: 39011258.0105\n",
      "Epoch 3/10\n",
      "379/379 [==============================] - 65s 170ms/step - loss: 0.5095 - binary_accuracy: 0.7417 - false_negatives: 38576332.7711\n",
      "Epoch 4/10\n",
      "379/379 [==============================] - 65s 170ms/step - loss: 0.5051 - binary_accuracy: 0.7423 - false_negatives: 38741994.3526\n",
      "Epoch 5/10\n",
      "379/379 [==============================] - 65s 172ms/step - loss: 0.5075 - binary_accuracy: 0.7423 - false_negatives: 38565369.0842\n",
      "Epoch 6/10\n",
      "379/379 [==============================] - 65s 172ms/step - loss: 0.5054 - binary_accuracy: 0.7426 - false_negatives: 38716396.5395\n",
      "Epoch 7/10\n",
      "379/379 [==============================] - 65s 171ms/step - loss: 0.5084 - binary_accuracy: 0.7402 - false_negatives: 38720121.3711\n",
      "Epoch 8/10\n",
      "379/379 [==============================] - 65s 172ms/step - loss: 0.5065 - binary_accuracy: 0.7398 - false_negatives: 38954807.2895\n",
      "Epoch 9/10\n",
      "379/379 [==============================] - 65s 171ms/step - loss: 0.4985 - binary_accuracy: 0.7480 - false_negatives: 38117432.0237\n",
      "Epoch 10/10\n",
      "379/379 [==============================] - 65s 171ms/step - loss: 0.5043 - binary_accuracy: 0.7421 - false_negatives: 38757780.0316\n"
     ]
    },
    {
     "data": {
      "text/plain": [
       "<tensorflow.python.keras.callbacks.History at 0x7fdef04482d0>"
      ]
     },
     "execution_count": 11,
     "metadata": {},
     "output_type": "execute_result"
    }
   ],
   "source": [
    "model.fit(train_dataset, epochs = epochs, verbose =1)"
   ]
  }
 ],
 "metadata": {
  "kernelspec": {
   "display_name": "Python 3",
   "language": "python",
   "name": "python3"
  },
  "language_info": {
   "codemirror_mode": {
    "name": "ipython",
    "version": 3
   },
   "file_extension": ".py",
   "mimetype": "text/x-python",
   "name": "python",
   "nbconvert_exporter": "python",
   "pygments_lexer": "ipython3",
   "version": "3.7.10"
  },
  "papermill": {
   "default_parameters": {},
   "duration": 710.008675,
   "end_time": "2021-09-09T17:50:31.127843",
   "environment_variables": {},
   "exception": null,
   "input_path": "__notebook__.ipynb",
   "output_path": "__notebook__.ipynb",
   "parameters": {},
   "start_time": "2021-09-09T17:38:41.119168",
   "version": "2.3.3"
  }
 },
 "nbformat": 4,
 "nbformat_minor": 5
}
